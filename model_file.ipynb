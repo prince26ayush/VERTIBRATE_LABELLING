{
 "cells": [
  {
   "cell_type": "code",
   "execution_count": null,
   "metadata": {},
   "outputs": [],
   "source": [
    "#preprocessing of the dataset: - resize the image to 512x512 - denoise the image - normalize the image\n",
    "import cv2\n",
    "\n",
    "def preprocess_image(image):\n",
    "    # Resize image to desired dimensions\n",
    "    resized_image = cv2.resize(image, (512, 512))\n",
    "\n",
    "    # Apply denoising and normalization techniques\n",
    "    denoised_image = cv2.fastNlMeansDenoising(resized_image)\n",
    "    normalized_image = cv2.normalize(denoised_image, None, 0, 255, cv2.NORM_MINMAX)\n",
    "\n",
    "    return normalized_image\n",
    "\n",
    "# Load and preprocess the CT scan image\n",
    "image = cv2.imread('image_path', cv2.IMREAD_GRAYSCALE)\n",
    "preprocessed_image = preprocess_image(image)\n"
   ]
  },
  {
   "cell_type": "code",
   "execution_count": null,
   "metadata": {},
   "outputs": [],
   "source": [
    "#bone identification: - apply a threshold to the image - apply a morphological operation to remove noise\n",
    "import numpy as np\n",
    "\n",
    "def segment_bones(image):\n",
    "    # Apply a thresholding technique to segment bone regions\n",
    "    _, binary_image = cv2.threshold(image, 127, 255, cv2.THRESH_BINARY)\n",
    "\n",
    "    # Further refine the segmentation using morphological operations\n",
    "    kernel = cv2.getStructuringElement(cv2.MORPH_ELLIPSE, (5, 5))\n",
    "    segmented_image = cv2.morphologyEx(binary_image, cv2.MORPH_OPEN, kernel)\n",
    "\n",
    "    return segmented_image\n",
    "\n",
    "# Segment bones from the preprocessed image\n",
    "bone_segmentation = segment_bones(preprocessed_image)\n"
   ]
  },
  {
   "cell_type": "code",
   "execution_count": null,
   "metadata": {},
   "outputs": [],
   "source": [
    "#localization of vertebral columns: - apply a threshold to the image - apply a morphological operation to remove noise\n",
    "from skimage import measure\n",
    "\n",
    "def localize_columns(segmented_image):\n",
    "    # Apply connected component analysis to extract individual bone components\n",
    "    labels = measure.label(segmented_image, connectivity=2)\n",
    "\n",
    "    # Identify and localize the vertebral columns\n",
    "    columns = []\n",
    "    for label in np.unique(labels):\n",
    "        if label == 0:\n",
    "            continue\n",
    "        mask = np.where(labels == label, 1, 0)\n",
    "        column_bounding_box = np.array([np.min(np.nonzero(mask)[0]), np.max(np.nonzero(mask)[0]),\n",
    "                                        np.min(np.nonzero(mask)[1]), np.max(np.nonzero(mask)[1])])\n",
    "        columns.append(column_bounding_box)\n",
    "\n",
    "    return columns\n",
    "\n",
    "# Localize vertebral columns from the bone segmentation\n",
    "column_localizations = localize_columns(bone_segmentation)\n"
   ]
  },
  {
   "cell_type": "code",
   "execution_count": null,
   "metadata": {},
   "outputs": [],
   "source": [
    "#segmentation of vertebra: - apply a threshold to the image - apply a morphological operation to remove noise\n",
    "from skimage.measure import label\n",
    "from skimage.segmentation import flood\n",
    "\n",
    "def segment_vertebrae(column_image):\n",
    "    # Apply region growing algorithm to segment vertebrae within a column\n",
    "    labeled_image = label(column_image)\n",
    "    num_vertebrae = np.max(labeled_image)\n",
    "\n",
    "    # Extract individual vertebrae using labeled regions\n",
    "    vertebrae_masks = []\n",
    "    for i in range(1, num_vertebrae + 1):\n",
    "        vertebra_mask = np.where(labeled_image == i, 1, 0)\n",
    "\n",
    "        # Perform region growing starting from a seed point\n",
    "        seed_point = find_seed_point(vertebra_mask)  # You need to implement this function\n",
    "        segmented_vertebra = flood(column_image, seed_point)\n",
    "\n",
    "        vertebrae_masks.append(segmented_vertebra)\n",
    "\n",
    "    return vertebrae_masks\n",
    "\n",
    "# Localize vertebral columns from the bone segmentation\n",
    "column_localizations = localize_columns(bone_segmentation)\n",
    "\n",
    "# Segment vertebrae within each vertebral column\n",
    "vertebrae_segmentation = []\n",
    "for column in column_localizations:\n",
    "    column_image = bone_segmentation[column[0]:column[1], column[2]:column[3]]\n",
    "    vertebrae_masks = segment_vertebrae(column_image)\n",
    "    vertebrae_segmentation.append(vertebrae_masks)\n",
    "\n"
   ]
  }
 ],
 "metadata": {
  "kernelspec": {
   "display_name": "virtenv",
   "language": "python",
   "name": "python3"
  },
  "language_info": {
   "name": "python",
   "version": "3.9.16"
  },
  "orig_nbformat": 4
 },
 "nbformat": 4,
 "nbformat_minor": 2
}
